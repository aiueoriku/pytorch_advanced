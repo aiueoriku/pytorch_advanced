{
 "cells": [
  {
   "attachments": {},
   "cell_type": "markdown",
   "metadata": {},
   "source": [
    "# ディープラーニング実装の流れ\n",
    "- 前処理、後処理、モデルの入出力の確認\n",
    "- Datasetの作成（データとラベルのペア）\n",
    "- Dataloaderの作成（ミニバッチを取り出す）\n",
    "- モデルの作成\n",
    "- forwardの定義\n",
    "- loss関数の定義\n",
    "- 最適化手法の設定\n",
    "- 学習、検証(epochごとに訓練データと検証データで確認)\n",
    "- テストデータでの推論"
   ]
  },
  {
   "cell_type": "markdown",
   "metadata": {},
   "source": []
  }
 ],
 "metadata": {
  "kernelspec": {
   "display_name": "Python 3",
   "language": "python",
   "name": "python3"
  },
  "language_info": {
   "name": "python",
   "version": "3.8.10 (default, Jul 29 2024, 17:02:10) \n[GCC 9.4.0]"
  },
  "orig_nbformat": 4,
  "vscode": {
   "interpreter": {
    "hash": "e7370f93d1d0cde622a1f8e1c04877d8463912d04d973331ad4851f04de6915a"
   }
  }
 },
 "nbformat": 4,
 "nbformat_minor": 2
}
